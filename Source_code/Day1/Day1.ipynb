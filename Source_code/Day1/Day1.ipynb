{
 "cells": [
  {
   "cell_type": "markdown",
   "metadata": {},
   "source": [
    "## 논리 연산자의 신경망 함수로의 전환"
   ]
  },
  {
   "cell_type": "code",
   "execution_count": 1,
   "metadata": {},
   "outputs": [],
   "source": [
    "def AND(x1, x2):\n",
    "    w1, w2, theta = 0.5, 0.5, 0.7\n",
    "    tmp = x1*w1 + x2*w2\n",
    "    if tmp <= theta:\n",
    "        return 0\n",
    "    elif tmp > theta:\n",
    "        return 1"
   ]
  },
  {
   "cell_type": "code",
   "execution_count": 2,
   "metadata": {},
   "outputs": [
    {
     "data": {
      "text/plain": [
       "0"
      ]
     },
     "execution_count": 2,
     "metadata": {},
     "output_type": "execute_result"
    }
   ],
   "source": [
    "AND(0,0)"
   ]
  },
  {
   "cell_type": "code",
   "execution_count": 3,
   "metadata": {},
   "outputs": [
    {
     "data": {
      "text/plain": [
       "0"
      ]
     },
     "execution_count": 3,
     "metadata": {},
     "output_type": "execute_result"
    }
   ],
   "source": [
    "AND(1,0)"
   ]
  },
  {
   "cell_type": "code",
   "execution_count": 4,
   "metadata": {},
   "outputs": [
    {
     "data": {
      "text/plain": [
       "0"
      ]
     },
     "execution_count": 4,
     "metadata": {},
     "output_type": "execute_result"
    }
   ],
   "source": [
    "AND(0,1)"
   ]
  },
  {
   "cell_type": "code",
   "execution_count": 5,
   "metadata": {},
   "outputs": [
    {
     "data": {
      "text/plain": [
       "1"
      ]
     },
     "execution_count": 5,
     "metadata": {},
     "output_type": "execute_result"
    }
   ],
   "source": [
    "AND(1,1)"
   ]
  },
  {
   "cell_type": "code",
   "execution_count": 6,
   "metadata": {},
   "outputs": [],
   "source": [
    "import numpy as np\n",
    "def AND(x1, x2):\n",
    "    x=np.array([x1, x2])\n",
    "    w=np.array([0.5, 0.5])\n",
    "    b = -0.7\n",
    "    tmp = np.sum(w*x)+b\n",
    "    if tmp <= 0:\n",
    "        return 0\n",
    "    else:\n",
    "        return 1"
   ]
  },
  {
   "cell_type": "code",
   "execution_count": 7,
   "metadata": {},
   "outputs": [
    {
     "data": {
      "text/plain": [
       "0"
      ]
     },
     "execution_count": 7,
     "metadata": {},
     "output_type": "execute_result"
    }
   ],
   "source": [
    "AND(0, 0)"
   ]
  },
  {
   "cell_type": "code",
   "execution_count": 8,
   "metadata": {},
   "outputs": [
    {
     "data": {
      "text/plain": [
       "0"
      ]
     },
     "execution_count": 8,
     "metadata": {},
     "output_type": "execute_result"
    }
   ],
   "source": [
    "AND(1,0)"
   ]
  },
  {
   "cell_type": "code",
   "execution_count": 9,
   "metadata": {},
   "outputs": [
    {
     "data": {
      "text/plain": [
       "0"
      ]
     },
     "execution_count": 9,
     "metadata": {},
     "output_type": "execute_result"
    }
   ],
   "source": [
    "AND(0,1)"
   ]
  },
  {
   "cell_type": "code",
   "execution_count": 10,
   "metadata": {},
   "outputs": [
    {
     "data": {
      "text/plain": [
       "1"
      ]
     },
     "execution_count": 10,
     "metadata": {},
     "output_type": "execute_result"
    }
   ],
   "source": [
    "AND(1,1)"
   ]
  },
  {
   "cell_type": "code",
   "execution_count": 11,
   "metadata": {},
   "outputs": [],
   "source": [
    "import numpy as np\n",
    "def NAND(x1, x2):\n",
    "    x=np.array([x1, x2])\n",
    "    w=np.array([-0.5, -0.5])\n",
    "    b = 0.7\n",
    "    tmp = np.sum(w*x)+b\n",
    "    if tmp <= 0:\n",
    "        return 0\n",
    "    else:\n",
    "        return 1"
   ]
  },
  {
   "cell_type": "code",
   "execution_count": 12,
   "metadata": {},
   "outputs": [
    {
     "data": {
      "text/plain": [
       "0"
      ]
     },
     "execution_count": 12,
     "metadata": {},
     "output_type": "execute_result"
    }
   ],
   "source": [
    "NAND(1,1)"
   ]
  },
  {
   "cell_type": "code",
   "execution_count": 13,
   "metadata": {},
   "outputs": [],
   "source": [
    "import numpy as np\n",
    "def OR(x1, x2):\n",
    "    x=np.array([x1, x2])\n",
    "    w=np.array([0.5, 0.5])\n",
    "    b = -0.2\n",
    "    tmp = np.sum(w*x)+b\n",
    "    if tmp <= 0:\n",
    "        return 0\n",
    "    else:\n",
    "        return 1"
   ]
  },
  {
   "cell_type": "code",
   "execution_count": 14,
   "metadata": {},
   "outputs": [
    {
     "data": {
      "text/plain": [
       "1"
      ]
     },
     "execution_count": 14,
     "metadata": {},
     "output_type": "execute_result"
    }
   ],
   "source": [
    "OR(1, 0)"
   ]
  },
  {
   "cell_type": "markdown",
   "metadata": {},
   "source": [
    "## 각종 함수들\n",
    "- stepfunction\n",
    "- sigmoid function\n",
    "- Relu"
   ]
  },
  {
   "cell_type": "code",
   "execution_count": 15,
   "metadata": {},
   "outputs": [],
   "source": [
    "import numpy as np\n",
    "import matplotlib.pylab as plt\n",
    "\n",
    "# def step_function(x):\n",
    "#     if x > 0:\n",
    "#         return 1\n",
    "#     else:\n",
    "#         return 0\n",
    "    \n",
    "# def step_function1(x):\n",
    "#     y = x > 0\n",
    "#     return y.astype(np.int)\n",
    "\n",
    "# step_function1([3.0, 1.0])"
   ]
  },
  {
   "cell_type": "code",
   "execution_count": 16,
   "metadata": {},
   "outputs": [],
   "source": [
    "def step_function(x):\n",
    "    return np.array(x>0, dtype=np.int)"
   ]
  },
  {
   "cell_type": "code",
   "execution_count": 17,
   "metadata": {},
   "outputs": [
    {
     "data": {
      "image/png": "[encoded data removed]",
      "text/plain": [
       "<Figure size 1080x720 with 1 Axes>"
      ]
     },
     "metadata": {
      "needs_background": "light"
     },
     "output_type": "display_data"
    }
   ],
   "source": [
    "X = np.arange(-5.0, 5.0, 0.1)\n",
    "Y = step_function(X)\n",
    "plt.figure(figsize=(15, 10))\n",
    "plt.plot(X,Y)\n",
    "plt.ylim(-0.1, 1.1)\n",
    "plt.show()"
   ]
  },
  {
   "cell_type": "code",
   "execution_count": 18,
   "metadata": {},
   "outputs": [],
   "source": [
    "def sigmoid(x):\n",
    "    return 1/(1+np.exp(-x))"
   ]
  },
  {
   "cell_type": "code",
   "execution_count": 19,
   "metadata": {},
   "outputs": [
    {
     "name": "stdout",
     "output_type": "stream",
     "text": [
      "Y = [0.26894142 0.73105858 0.88079708]\n"
     ]
    }
   ],
   "source": [
    "X = np.array([-1.0, 1.0, 2.0])\n",
    "Y = sigmoid(X)\n",
    "print(\"Y =\", Y)"
   ]
  },
  {
   "cell_type": "code",
   "execution_count": 20,
   "metadata": {},
   "outputs": [
    {
     "name": "stdout",
     "output_type": "stream",
     "text": [
      "t + 1 = [2. 3. 4.]\n",
      "1/t= [1.         0.5        0.33333333]\n"
     ]
    }
   ],
   "source": [
    "t = np.array([1.0, 2.0, 3.0])\n",
    "print(\"t + 1 =\", t+1)\n",
    "print(\"1/t=\", 1/t)"
   ]
  },
  {
   "cell_type": "code",
   "execution_count": 21,
   "metadata": {},
   "outputs": [],
   "source": [
    "X = np.arange(-4, 4, 0.01)"
   ]
  },
  {
   "cell_type": "code",
   "execution_count": 22,
   "metadata": {},
   "outputs": [],
   "source": [
    "Y = sigmoid(X)"
   ]
  },
  {
   "cell_type": "code",
   "execution_count": 23,
   "metadata": {},
   "outputs": [
    {
     "data": {
      "text/plain": [
       "array([0.01798621, 0.01816369, 0.01834289, 0.01852382, 0.01870651,\n",
       "       0.01889096, 0.0190772 , 0.01926523, 0.01945508, 0.01964677,\n",
       "       0.01984031, 0.02003571, 0.020233  , 0.02043219, 0.0206333 ,\n",
       "       0.02083634, 0.02104135, 0.02124832, 0.02145729, 0.02166827,\n",
       "       0.02188127, 0.02209632, 0.02231344, 0.02253264, 0.02275394,\n",
       "       0.02297737, 0.02320294, 0.02343067, 0.02366058, 0.02389269,\n",
       "       0.02412702, 0.02436359, 0.02460243, 0.02484354, 0.02508696,\n",
       "       0.0253327 , 0.02558079, 0.02583124, 0.02608408, 0.02633932,\n",
       "       0.02659699, 0.02685712, 0.02711972, 0.02738481, 0.02765242,\n",
       "       0.02792257, 0.02819529, 0.02847059, 0.0287485 , 0.02902904,\n",
       "       0.02931223, 0.0295981 , 0.02988668, 0.03017798, 0.03047203,\n",
       "       0.03076886, 0.03106848, 0.03137093, 0.03167623, 0.0319844 ,\n",
       "       0.03229546, 0.03260946, 0.03292639, 0.03324631, 0.03356922,\n",
       "       0.03389516, 0.03422416, 0.03455623, 0.03489141, 0.03522972,\n",
       "       0.03557119, 0.03591585, 0.03626372, 0.03661483, 0.03696921,\n",
       "       0.03732689, 0.03768789, 0.03805225, 0.03841999, 0.03879113,\n",
       "       0.03916572, 0.03954378, 0.03992533, 0.04031042, 0.04069905,\n",
       "       0.04109128, 0.04148712, 0.04188661, 0.04228977, 0.04269664,\n",
       "       0.04310725, 0.04352163, 0.04393982, 0.04436183, 0.0447877 ,\n",
       "       0.04521747, 0.04565117, 0.04608883, 0.04653047, 0.04697615,\n",
       "       0.04742587, 0.04787969, 0.04833763, 0.04879972, 0.04926601,\n",
       "       0.04973651, 0.05021127, 0.05069032, 0.0511737 , 0.05166144,\n",
       "       0.05215356, 0.05265012, 0.05315114, 0.05365665, 0.0541667 ,\n",
       "       0.05468132, 0.05520054, 0.0557244 , 0.05625293, 0.05678618,\n",
       "       0.05732418, 0.05786696, 0.05841456, 0.05896701, 0.05952437,\n",
       "       0.06008665, 0.0606539 , 0.06122616, 0.06180347, 0.06238585,\n",
       "       0.06297336, 0.06356602, 0.06416388, 0.06476697, 0.06537533,\n",
       "       0.06598901, 0.06660804, 0.06723245, 0.06786229, 0.0684976 ,\n",
       "       0.06913842, 0.06978478, 0.07043673, 0.0710943 , 0.07175754,\n",
       "       0.07242649, 0.07310117, 0.07378165, 0.07446795, 0.07516011,\n",
       "       0.07585818, 0.0765622 , 0.0772722 , 0.07798824, 0.07871034,\n",
       "       0.07943855, 0.08017291, 0.08091347, 0.08166026, 0.08241332,\n",
       "       0.0831727 , 0.08393843, 0.08471057, 0.08548914, 0.08627419,\n",
       "       0.08706577, 0.08786391, 0.08866866, 0.08948006, 0.09029814,\n",
       "       0.09112296, 0.09195455, 0.09279295, 0.09363821, 0.09449037,\n",
       "       0.09534946, 0.09621554, 0.09708864, 0.0979688 , 0.09885607,\n",
       "       0.09975049, 0.10065209, 0.10156093, 0.10247703, 0.10340045,\n",
       "       0.10433122, 0.10526939, 0.10621499, 0.10716807, 0.10812867,\n",
       "       0.10909682, 0.11007257, 0.11105597, 0.11204704, 0.11304583,\n",
       "       0.11405238, 0.11506673, 0.11608892, 0.11711899, 0.11815698,\n",
       "       0.11920292, 0.12025686, 0.12131884, 0.12238889, 0.12346705,\n",
       "       0.12455336, 0.12564786, 0.12675058, 0.12786157, 0.12898085,\n",
       "       0.13010847, 0.13124447, 0.13238887, 0.13354172, 0.13470305,\n",
       "       0.1358729 , 0.13705129, 0.13823827, 0.13943387, 0.14063813,\n",
       "       0.14185106, 0.14307272, 0.14430313, 0.14554233, 0.14679034,\n",
       "       0.1480472 , 0.14931293, 0.15058758, 0.15187116, 0.15316372,\n",
       "       0.15446527, 0.15577584, 0.15709547, 0.15842418, 0.159762  ,\n",
       "       0.16110895, 0.16246506, 0.16383036, 0.16520487, 0.16658861,\n",
       "       0.16798161, 0.1693839 , 0.17079548, 0.17221639, 0.17364665,\n",
       "       0.17508627, 0.17653527, 0.17799369, 0.17946152, 0.18093879,\n",
       "       0.18242552, 0.18392173, 0.18542742, 0.18694261, 0.18846733,\n",
       "       0.19000157, 0.19154535, 0.19309868, 0.19466158, 0.19623406,\n",
       "       0.19781611, 0.19940776, 0.201009  , 0.20261985, 0.2042403 ,\n",
       "       0.20587037, 0.20751006, 0.20915937, 0.21081829, 0.21248684,\n",
       "       0.21416502, 0.21585281, 0.21755022, 0.21925725, 0.22097389,\n",
       "       0.22270014, 0.22443599, 0.22618143, 0.22793645, 0.22970105,\n",
       "       0.23147522, 0.23325894, 0.2350522 , 0.23685498, 0.23866729,\n",
       "       0.24048908, 0.24232036, 0.2441611 , 0.24601128, 0.24787089,\n",
       "       0.24973989, 0.25161828, 0.25350602, 0.25540308, 0.25730945,\n",
       "       0.2592251 , 0.26114999, 0.2630841 , 0.2650274 , 0.26697985,\n",
       "       0.26894142, 0.27091208, 0.27289178, 0.2748805 , 0.27687819,\n",
       "       0.27888482, 0.28090034, 0.28292471, 0.28495789, 0.28699984,\n",
       "       0.2890505 , 0.29110983, 0.29317778, 0.2952543 , 0.29733935,\n",
       "       0.29943286, 0.30153478, 0.30364507, 0.30576366, 0.3078905 ,\n",
       "       0.31002552, 0.31216867, 0.31431989, 0.31647911, 0.31864627,\n",
       "       0.3208213 , 0.32300414, 0.32519473, 0.32739298, 0.32959884,\n",
       "       0.33181223, 0.33403307, 0.3362613 , 0.33849684, 0.34073961,\n",
       "       0.34298954, 0.34524654, 0.34751054, 0.34978145, 0.3520592 ,\n",
       "       0.35434369, 0.35663485, 0.35893259, 0.36123682, 0.36354746,\n",
       "       0.36586441, 0.36818758, 0.37051689, 0.37285223, 0.37519353,\n",
       "       0.37754067, 0.37989357, 0.38225213, 0.38461624, 0.38698582,\n",
       "       0.38936077, 0.39174097, 0.39412633, 0.39651675, 0.39891212,\n",
       "       0.40131234, 0.4037173 , 0.4061269 , 0.40854102, 0.41095957,\n",
       "       0.41338242, 0.41580948, 0.41824062, 0.42067575, 0.42311474,\n",
       "       0.42555748, 0.42800387, 0.43045378, 0.4329071 , 0.43536371,\n",
       "       0.4378235 , 0.44028635, 0.44275215, 0.44522076, 0.44769209,\n",
       "       0.450166  , 0.45264238, 0.45512111, 0.45760206, 0.46008512,\n",
       "       0.46257015, 0.46505705, 0.46754569, 0.47003595, 0.4725277 ,\n",
       "       0.47502081, 0.47751518, 0.48001066, 0.48250714, 0.4850045 ,\n",
       "       0.4875026 , 0.49000133, 0.49250056, 0.49500017, 0.49750002,\n",
       "       0.5       , 0.50249998, 0.50499983, 0.50749944, 0.50999867,\n",
       "       0.5124974 , 0.5149955 , 0.51749286, 0.51998934, 0.52248482,\n",
       "       0.52497919, 0.5274723 , 0.52996405, 0.53245431, 0.53494295,\n",
       "       0.53742985, 0.53991488, 0.54239794, 0.54487889, 0.54735762,\n",
       "       0.549834  , 0.55230791, 0.55477924, 0.55724785, 0.55971365,\n",
       "       0.5621765 , 0.56463629, 0.5670929 , 0.56954622, 0.57199613,\n",
       "       0.57444252, 0.57688526, 0.57932425, 0.58175938, 0.58419052,\n",
       "       0.58661758, 0.58904043, 0.59145898, 0.5938731 , 0.5962827 ,\n",
       "       0.59868766, 0.60108788, 0.60348325, 0.60587367, 0.60825903,\n",
       "       0.61063923, 0.61301418, 0.61538376, 0.61774787, 0.62010643,\n",
       "       0.62245933, 0.62480647, 0.62714777, 0.62948311, 0.63181242,\n",
       "       0.63413559, 0.63645254, 0.63876318, 0.64106741, 0.64336515,\n",
       "       0.64565631, 0.6479408 , 0.65021855, 0.65248946, 0.65475346,\n",
       "       0.65701046, 0.65926039, 0.66150316, 0.6637387 , 0.66596693,\n",
       "       0.66818777, 0.67040116, 0.67260702, 0.67480527, 0.67699586,\n",
       "       0.6791787 , 0.68135373, 0.68352089, 0.68568011, 0.68783133,\n",
       "       0.68997448, 0.6921095 , 0.69423634, 0.69635493, 0.69846522,\n",
       "       0.70056714, 0.70266065, 0.7047457 , 0.70682222, 0.70889017,\n",
       "       0.7109495 , 0.71300016, 0.71504211, 0.71707529, 0.71909966,\n",
       "       0.72111518, 0.72312181, 0.7251195 , 0.72710822, 0.72908792,\n",
       "       0.73105858, 0.73302015, 0.7349726 , 0.7369159 , 0.73885001,\n",
       "       0.7407749 , 0.74269055, 0.74459692, 0.74649398, 0.74838172,\n",
       "       0.75026011, 0.75212911, 0.75398872, 0.7558389 , 0.75767964,\n",
       "       0.75951092, 0.76133271, 0.76314502, 0.7649478 , 0.76674106,\n",
       "       0.76852478, 0.77029895, 0.77206355, 0.77381857, 0.77556401,\n",
       "       0.77729986, 0.77902611, 0.78074275, 0.78244978, 0.78414719,\n",
       "       0.78583498, 0.78751316, 0.78918171, 0.79084063, 0.79248994,\n",
       "       0.79412963, 0.7957597 , 0.79738015, 0.798991  , 0.80059224,\n",
       "       0.80218389, 0.80376594, 0.80533842, 0.80690132, 0.80845465,\n",
       "       0.80999843, 0.81153267, 0.81305739, 0.81457258, 0.81607827,\n",
       "       0.81757448, 0.81906121, 0.82053848, 0.82200631, 0.82346473,\n",
       "       0.82491373, 0.82635335, 0.82778361, 0.82920452, 0.8306161 ,\n",
       "       0.83201839, 0.83341139, 0.83479513, 0.83616964, 0.83753494,\n",
       "       0.83889105, 0.840238  , 0.84157582, 0.84290453, 0.84422416,\n",
       "       0.84553473, 0.84683628, 0.84812884, 0.84941242, 0.85068707,\n",
       "       0.8519528 , 0.85320966, 0.85445767, 0.85569687, 0.85692728,\n",
       "       0.85814894, 0.85936187, 0.86056613, 0.86176173, 0.86294871,\n",
       "       0.8641271 , 0.86529695, 0.86645828, 0.86761113, 0.86875553,\n",
       "       0.86989153, 0.87101915, 0.87213843, 0.87324942, 0.87435214,\n",
       "       0.87544664, 0.87653295, 0.87761111, 0.87868116, 0.87974314,\n",
       "       0.88079708, 0.88184302, 0.88288101, 0.88391108, 0.88493327,\n",
       "       0.88594762, 0.88695417, 0.88795296, 0.88894403, 0.88992743,\n",
       "       0.89090318, 0.89187133, 0.89283193, 0.89378501, 0.89473061,\n",
       "       0.89566878, 0.89659955, 0.89752297, 0.89843907, 0.89934791,\n",
       "       0.90024951, 0.90114393, 0.9020312 , 0.90291136, 0.90378446,\n",
       "       0.90465054, 0.90550963, 0.90636179, 0.90720705, 0.90804545,\n",
       "       0.90887704, 0.90970186, 0.91051994, 0.91133134, 0.91213609,\n",
       "       0.91293423, 0.91372581, 0.91451086, 0.91528943, 0.91606157,\n",
       "       0.9168273 , 0.91758668, 0.91833974, 0.91908653, 0.91982709,\n",
       "       0.92056145, 0.92128966, 0.92201176, 0.9227278 , 0.9234378 ,\n",
       "       0.92414182, 0.92483989, 0.92553205, 0.92621835, 0.92689883,\n",
       "       0.92757351, 0.92824246, 0.9289057 , 0.92956327, 0.93021522,\n",
       "       0.93086158, 0.9315024 , 0.93213771, 0.93276755, 0.93339196,\n",
       "       0.93401099, 0.93462467, 0.93523303, 0.93583612, 0.93643398,\n",
       "       0.93702664, 0.93761415, 0.93819653, 0.93877384, 0.9393461 ,\n",
       "       0.93991335, 0.94047563, 0.94103299, 0.94158544, 0.94213304,\n",
       "       0.94267582, 0.94321382, 0.94374707, 0.9442756 , 0.94479946,\n",
       "       0.94531868, 0.9458333 , 0.94634335, 0.94684886, 0.94734988,\n",
       "       0.94784644, 0.94833856, 0.9488263 , 0.94930968, 0.94978873,\n",
       "       0.95026349, 0.95073399, 0.95120028, 0.95166237, 0.95212031,\n",
       "       0.95257413, 0.95302385, 0.95346953, 0.95391117, 0.95434883,\n",
       "       0.95478253, 0.9552123 , 0.95563817, 0.95606018, 0.95647837,\n",
       "       0.95689275, 0.95730336, 0.95771023, 0.95811339, 0.95851288,\n",
       "       0.95890872, 0.95930095, 0.95968958, 0.96007467, 0.96045622,\n",
       "       0.96083428, 0.96120887, 0.96158001, 0.96194775, 0.96231211,\n",
       "       0.96267311, 0.96303079, 0.96338517, 0.96373628, 0.96408415,\n",
       "       0.96442881, 0.96477028, 0.96510859, 0.96544377, 0.96577584,\n",
       "       0.96610484, 0.96643078, 0.96675369, 0.96707361, 0.96739054,\n",
       "       0.96770454, 0.9680156 , 0.96832377, 0.96862907, 0.96893152,\n",
       "       0.96923114, 0.96952797, 0.96982202, 0.97011332, 0.9704019 ,\n",
       "       0.97068777, 0.97097096, 0.9712515 , 0.97152941, 0.97180471,\n",
       "       0.97207743, 0.97234758, 0.97261519, 0.97288028, 0.97314288,\n",
       "       0.97340301, 0.97366068, 0.97391592, 0.97416876, 0.97441921,\n",
       "       0.9746673 , 0.97491304, 0.97515646, 0.97539757, 0.97563641,\n",
       "       0.97587298, 0.97610731, 0.97633942, 0.97656933, 0.97679706,\n",
       "       0.97702263, 0.97724606, 0.97746736, 0.97768656, 0.97790368,\n",
       "       0.97811873, 0.97833173, 0.97854271, 0.97875168, 0.97895865,\n",
       "       0.97916366, 0.9793667 , 0.97956781, 0.979767  , 0.97996429,\n",
       "       0.98015969, 0.98035323, 0.98054492, 0.98073477, 0.9809228 ,\n",
       "       0.98110904, 0.98129349, 0.98147618, 0.98165711, 0.98183631])"
      ]
     },
     "execution_count": 23,
     "metadata": {},
     "output_type": "execute_result"
    }
   ],
   "source": [
    "Y"
   ]
  },
  {
   "cell_type": "code",
   "execution_count": 24,
   "metadata": {},
   "outputs": [
    {
     "data": {
      "image/png": "[encoded data removed]",
      "text/plain": [
       "<Figure size 1080x720 with 1 Axes>"
      ]
     },
     "metadata": {
      "needs_background": "light"
     },
     "output_type": "display_data"
    }
   ],
   "source": [
    "plt.figure(figsize=(15, 10))\n",
    "plt.plot(X,Y)\n",
    "plt.ylim(-1, 1)\n",
    "plt.show()"
   ]
  },
  {
   "cell_type": "code",
   "execution_count": 25,
   "metadata": {},
   "outputs": [],
   "source": [
    "def relu(x):\n",
    "    return np.maximum(0,x)"
   ]
  },
  {
   "cell_type": "code",
   "execution_count": 26,
   "metadata": {},
   "outputs": [],
   "source": [
    "x=np.arange(-5.0, 5.0, 0.01)\n",
    "y = relu(x)"
   ]
  },
  {
   "cell_type": "code",
   "execution_count": 27,
   "metadata": {
    "scrolled": false
   },
   "outputs": [
    {
     "data": {
      "image/png": "[encoded data removed]",
      "text/plain": [
       "<Figure size 1080x720 with 1 Axes>"
      ]
     },
     "metadata": {
      "needs_background": "light"
     },
     "output_type": "display_data"
    }
   ],
   "source": [
    "plt.figure(figsize=(15,10))\n",
    "plt.plot(x,y)\n",
    "plt.ylim(-0.1,5.5)\n",
    "plt.show()"
   ]
  },
  {
   "cell_type": "markdown",
   "metadata": {},
   "source": [
    "## BigData Basic\n",
    "- 입력층, 은닉층, 출력층"
   ]
  },
  {
   "cell_type": "code",
   "execution_count": 28,
   "metadata": {
    "scrolled": true
   },
   "outputs": [
    {
     "name": "stdout",
     "output_type": "stream",
     "text": [
      "A.shape= (2, 2)\n",
      "B.shape= (2, 2)\n"
     ]
    }
   ],
   "source": [
    "A=np.array([[1,2],[3,4]])\n",
    "B=np.array([[5,6],[7,8]])\n",
    "print(\"A.shape=\",A.shape)\n",
    "print(\"B.shape=\",B.shape)"
   ]
  },
  {
   "cell_type": "code",
   "execution_count": 29,
   "metadata": {
    "scrolled": true
   },
   "outputs": [
    {
     "name": "stdout",
     "output_type": "stream",
     "text": [
      "A*B = [[19 22]\n",
      " [43 50]]\n",
      "result.shape (2, 2)\n"
     ]
    }
   ],
   "source": [
    "result = np.dot(A,B)\n",
    "print(\"A*B =\", result)\n",
    "print(\"result.shape\", result.shape)"
   ]
  },
  {
   "cell_type": "code",
   "execution_count": 30,
   "metadata": {},
   "outputs": [
    {
     "name": "stdout",
     "output_type": "stream",
     "text": [
      "shape of input = (2,)\n",
      "weight = [[1 3 5]\n",
      " [2 4 6]]\n",
      "shape of weight = (2, 3)\n",
      "shape of result = (3,)\n",
      "y = [ 5 11 17]\n"
     ]
    }
   ],
   "source": [
    "x = np.array([1,2])\n",
    "print(\"shape of input =\", x.shape)\n",
    "weight=np.array([[1,3,5],[2,4,6]])\n",
    "print(\"weight =\", weight)\n",
    "print(\"shape of weight =\", weight.shape)\n",
    "y = np.dot(x, weight)\n",
    "print(\"shape of result =\", y.shape)\n",
    "print(\"y =\", y)"
   ]
  },
  {
   "cell_type": "code",
   "execution_count": 31,
   "metadata": {},
   "outputs": [
    {
     "name": "stdout",
     "output_type": "stream",
     "text": [
      "shape of input= (2,)\n",
      "shape of weight= (2, 3)\n",
      "shape of bias1= (3,)\n"
     ]
    }
   ],
   "source": [
    "## 2개의 은닉층\n",
    "\n",
    "x=np.array([1.0, 0.5])\n",
    "weight1 = np.array([[0.1, 0.3, 0.5],[0.2, 0.4, 0.6]])\n",
    "bias1 = np.array([0.1, 0.2, 0.3])\n",
    "print(\"shape of input=\", x.shape)\n",
    "print(\"shape of weight=\", weight.shape)\n",
    "print(\"shape of bias1=\", bias1.shape)"
   ]
  },
  {
   "cell_type": "code",
   "execution_count": 32,
   "metadata": {},
   "outputs": [
    {
     "name": "stdout",
     "output_type": "stream",
     "text": [
      "result of inner1= [0.3 0.7 1.1]\n",
      "result of sigmoid1= [0.57444252 0.66818777 0.75026011]\n"
     ]
    }
   ],
   "source": [
    "result_of_inner1=np.dot(x,weight1)+bias1\n",
    "result_of_sigmoid1 = sigmoid(result_of_inner1)\n",
    "print(\"result of inner1=\", result_of_inner1)\n",
    "print(\"result of sigmoid1=\", result_of_sigmoid1)"
   ]
  },
  {
   "cell_type": "code",
   "execution_count": 33,
   "metadata": {},
   "outputs": [
    {
     "name": "stdout",
     "output_type": "stream",
     "text": [
      "shape of sigmoid1 = (3,)\n",
      "shape of weight2= (3, 2)\n",
      "shape of bias2= (2,)\n"
     ]
    }
   ],
   "source": [
    "weight2 = np.array([[0.1, 0.4], [0.2, 0.5], [0.3, 0.6]])\n",
    "bias2 = np.array([0.1, 0.2])\n",
    "print(\"shape of sigmoid1 =\", result_of_sigmoid1.shape)\n",
    "print(\"shape of weight2=\", weight2.shape)\n",
    "print(\"shape of bias2=\", bias2.shape)"
   ]
  },
  {
   "cell_type": "code",
   "execution_count": 34,
   "metadata": {},
   "outputs": [
    {
     "name": "stdout",
     "output_type": "stream",
     "text": [
      "result of inner2= [0.51615984 1.21402696]\n",
      "result of sigmoid2= [0.62624937 0.7710107 ]\n"
     ]
    }
   ],
   "source": [
    "result_of_inner2 = np.dot(result_of_sigmoid1, weight2) + bias2\n",
    "result_of_sigmoid2 = sigmoid(result_of_inner2)\n",
    "print(\"result of inner2=\", result_of_inner2)\n",
    "print(\"result of sigmoid2=\", result_of_sigmoid2)"
   ]
  },
  {
   "cell_type": "code",
   "execution_count": 35,
   "metadata": {},
   "outputs": [],
   "source": [
    "def identity_function(x):\n",
    "    return x"
   ]
  },
  {
   "cell_type": "code",
   "execution_count": 36,
   "metadata": {},
   "outputs": [
    {
     "name": "stdout",
     "output_type": "stream",
     "text": [
      "shape of sigmoid2 = (2,)\n",
      "shape of weight3= (2, 2)\n",
      "shape of bias3= (2,)\n"
     ]
    }
   ],
   "source": [
    "weight3 = np.array([[0.1, 0.3], [0.2, 0.4]])\n",
    "bias3 = np.array([0.1, 0.2])\n",
    "print(\"shape of sigmoid2 =\", result_of_sigmoid2.shape)\n",
    "print(\"shape of weight3=\", weight3.shape)\n",
    "print(\"shape of bias3=\", bias3.shape)"
   ]
  },
  {
   "cell_type": "code",
   "execution_count": 37,
   "metadata": {},
   "outputs": [
    {
     "name": "stdout",
     "output_type": "stream",
     "text": [
      "output = [0.31682708 0.69627909]\n"
     ]
    }
   ],
   "source": [
    "result_of_inner3 = np.dot(result_of_sigmoid2, weight3) + bias3\n",
    "output = identity_function(result_of_inner3)\n",
    "print(\"output =\", output)"
   ]
  },
  {
   "cell_type": "markdown",
   "metadata": {},
   "source": [
    "### 2개의 은닉층을 가진 함수\n",
    "- 3개의 가중치와 2개의 편향치"
   ]
  },
  {
   "cell_type": "code",
   "execution_count": 38,
   "metadata": {},
   "outputs": [],
   "source": [
    "def init_network():\n",
    "#     network={}\n",
    "#     network['W1']=np.array([[0.1, 0.3, 0.5], [0.2, 0.4, 0.6]])\n",
    "#     network['b1']=np.array([0.1, 0.2, 0.3])\n",
    "#     network['W2']=np.array([[0.1, 0.4], [0.2, 0.5], [0.3, 0.6]])\n",
    "#     network['b2']=np.array([0.1, 0.2])\n",
    "#     network['W3']=np.array([[0.1, 0.3], [0.2, 0.4]])\n",
    "#     network['b3']=np.array([0.1, 0.2])\n",
    "    \n",
    "    network={\n",
    "              'W1': np.array([[0.1, 0.3, 0.5], [0.2, 0.4, 0.6]]),\n",
    "              'b1': np.array([0.1, 0.2, 0.3]),\n",
    "              'W2': np.array([[0.1, 0.4], [0.2, 0.5], [0.3, 0.6]]),\n",
    "              'b2': np.array([0.1, 0.2]),\n",
    "              'W3': np.array([[0.1, 0.3], [0.2, 0.4]]),\n",
    "              'b3': np.array([0.1, 0.2])}\n",
    "    \n",
    "    return network"
   ]
  },
  {
   "cell_type": "code",
   "execution_count": 39,
   "metadata": {
    "scrolled": true
   },
   "outputs": [
    {
     "name": "stdout",
     "output_type": "stream",
     "text": [
      "[0.57855079 0.66736228]\n"
     ]
    }
   ],
   "source": [
    "def forward(network, x):\n",
    "    W1, W2, W3 = network['W1'], network['W2'], network['W3']\n",
    "    b1, b2, b3 = network['b1'], network['b2'], network['b3']\n",
    "    \n",
    "    a1 =np.dot(x, W1)+b1\n",
    "    z1 = sigmoid(a1)\n",
    "    a2 =np.dot(z1, W2)+b2\n",
    "    z2 = sigmoid(a2)\n",
    "    a3 =np.dot(z2, W3)+b3\n",
    "    y = sigmoid(a3)\n",
    "    \n",
    "    return y\n",
    "\n",
    "network = init_network()\n",
    "x = np.array([1.0, 0.5])\n",
    "y = forward(network, x)\n",
    "print(y)"
   ]
  },
  {
   "cell_type": "markdown",
   "metadata": {},
   "source": [
    "### softmax matrix"
   ]
  },
  {
   "cell_type": "code",
   "execution_count": 44,
   "metadata": {},
   "outputs": [],
   "source": [
    "def softmax(matrix):\n",
    "    exponential_matrix = np.exp(matrix)\n",
    "    sum_of_exponential_matrix = np.sum(exponential_matrix)\n",
    "    y = exponential_matrix / sum_of_exponential_matrix\n",
    "    return y\n",
    "\n",
    "## 큰값이 들어오면 overflow가 발생할 가능성이 높다."
   ]
  },
  {
   "cell_type": "code",
   "execution_count": 41,
   "metadata": {},
   "outputs": [
    {
     "name": "stderr",
     "output_type": "stream",
     "text": [
      "C:\\Users\\ezen\\Anaconda3\\lib\\site-packages\\ipykernel_launcher.py:4: RuntimeWarning: invalid value encountered in true_divide\n",
      "  after removing the cwd from sys.path.\n"
     ]
    },
    {
     "data": {
      "text/plain": [
       "array([nan, nan, nan])"
      ]
     },
     "execution_count": 41,
     "metadata": {},
     "output_type": "execute_result"
    }
   ],
   "source": [
    "# overflow가 발생하는 상황\n",
    "\n",
    "matrix = np.array([1010, 1000, 900])\n",
    "softmax(matrix)"
   ]
  },
  {
   "cell_type": "code",
   "execution_count": 42,
   "metadata": {},
   "outputs": [],
   "source": [
    "maximum_of_matrix = np.max(matrix)\n",
    "difference_from_maximum = matrix - maximum_of_matrix"
   ]
  },
  {
   "cell_type": "code",
   "execution_count": 43,
   "metadata": {},
   "outputs": [
    {
     "data": {
      "text/plain": [
       "array([9.99954602e-01, 4.53978687e-05, 1.68883521e-48])"
      ]
     },
     "execution_count": 43,
     "metadata": {},
     "output_type": "execute_result"
    }
   ],
   "source": [
    "softmax(difference_from_maximum)"
   ]
  },
  {
   "cell_type": "code",
   "execution_count": 45,
   "metadata": {},
   "outputs": [],
   "source": [
    "# overflow가 발생하지 않도록 최대값으로 빼준 softmax function\n",
    "\n",
    "def softmax(matrix):\n",
    "    maximum_of_matrix = np.max(matrix)\n",
    "    difference_from_maximum = matrix - maximum_of_matrix\n",
    "    exponential_of_difference = np.exp(difference_from_maximum)\n",
    "    sum_of_exponential= np.sum(exponential_of_difference)\n",
    "    y = exponential_of_difference / sum_of_exponential\n",
    "    return y"
   ]
  },
  {
   "cell_type": "code",
   "execution_count": 47,
   "metadata": {},
   "outputs": [
    {
     "name": "stdout",
     "output_type": "stream",
     "text": [
      "y= [9.99954602e-01 4.53978687e-05 1.68883521e-48]\n",
      "sum of y = 1.0\n"
     ]
    }
   ],
   "source": [
    "matrix = np.array([1010, 1000, 900])\n",
    "y = softmax(matrix)\n",
    "print(\"y=\",y)\n",
    "print(\"sum of y =\", np.sum(y))"
   ]
  },
  {
   "cell_type": "code",
   "execution_count": null,
   "metadata": {},
   "outputs": [],
   "source": []
  }
 ],
 "metadata": {
  "kernelspec": {
   "display_name": "Python 3",
   "language": "python",
   "name": "python3"
  },
  "language_info": {
   "codemirror_mode": {
    "name": "ipython",
    "version": 3
   },
   "file_extension": ".py",
   "mimetype": "text/x-python",
   "name": "python",
   "nbconvert_exporter": "python",
   "pygments_lexer": "ipython3",
   "version": "3.7.4"
  }
 },
 "nbformat": 4,
 "nbformat_minor": 2
}
