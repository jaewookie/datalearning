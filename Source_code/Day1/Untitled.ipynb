{
 "cells": [
  {
   "cell_type": "code",
   "execution_count": 1,
   "metadata": {},
   "outputs": [],
   "source": [
    "Out=[0.97, 0.86, 0.75, 0.71, 0.66]\n",
    "lable=[1,1,0,0,1]\n",
    "\n",
    "Tp=0\n",
    "Tn=0\n",
    "\n",
    "po=3\n",
    "ne=2\n",
    "\n",
    "critical_point=[]"
   ]
  },
  {
   "cell_type": "code",
   "execution_count": 2,
   "metadata": {},
   "outputs": [
    {
     "name": "stdout",
     "output_type": "stream",
     "text": [
      "[0.3333333333333333, 0.6666666666666666, 0.6666666666666666, 0.6666666666666666, 1.0]\n",
      "[0.0, 0.0, 0.5, 1.0, 1.0]\n"
     ]
    }
   ],
   "source": [
    "TAR=[]\n",
    "FAR=[]\n",
    "\n",
    "for x in range(len(Out)):\n",
    "    critical_point.append(Out[x])\n",
    "    \n",
    "    Tp=0\n",
    "    Tn=0\n",
    "    \n",
    "    for n in range(len(critical_point)):\n",
    "        if Out[n]>=critical_point[n]:\n",
    "            if lable[n] == 1 :\n",
    "                Tp = Tp+1\n",
    "            elif lable[n] != 1 :\n",
    "                Tn = Tn+1\n",
    "                \n",
    "    TAR_f = Tp/po\n",
    "    FAR_f = Tn/ne\n",
    "\n",
    "    TAR.append(TAR_f)\n",
    "    FAR.append(FAR_f)\n",
    "    \n",
    "print(TAR)\n",
    "print(FAR)"
   ]
  },
  {
   "cell_type": "code",
   "execution_count": 3,
   "metadata": {},
   "outputs": [],
   "source": [
    "import matplotlib.pyplot as plt\n",
    "%matplotlib inline"
   ]
  },
  {
   "cell_type": "code",
   "execution_count": 4,
   "metadata": {},
   "outputs": [
    {
     "data": {
      "text/plain": [
       "[<matplotlib.lines.Line2D at 0x2c9cc200488>]"
      ]
     },
     "execution_count": 4,
     "metadata": {},
     "output_type": "execute_result"
    },
    {
     "data": {
      "image/png": "[encoded data removed]",
      "text/plain": [
       "<Figure size 432x288 with 1 Axes>"
      ]
     },
     "metadata": {
      "needs_background": "light"
     },
     "output_type": "display_data"
    }
   ],
   "source": [
    "plt.figure(figsize = (6,4))\n",
    "plt.plot(TAR, FAR)"
   ]
  },
  {
   "cell_type": "code",
   "execution_count": null,
   "metadata": {},
   "outputs": [],
   "source": []
  }
 ],
 "metadata": {
  "kernelspec": {
   "display_name": "Python 3",
   "language": "python",
   "name": "python3"
  },
  "language_info": {
   "codemirror_mode": {
    "name": "ipython",
    "version": 3
   },
   "file_extension": ".py",
   "mimetype": "text/x-python",
   "name": "python",
   "nbconvert_exporter": "python",
   "pygments_lexer": "ipython3",
   "version": "3.7.4"
  }
 },
 "nbformat": 4,
 "nbformat_minor": 2
}
