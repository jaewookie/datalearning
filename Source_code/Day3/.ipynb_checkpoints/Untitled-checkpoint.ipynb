{
 "cells": [
  {
   "cell_type": "markdown",
   "metadata": {},
   "source": [
    "## 선형대수학과 벡터"
   ]
  },
  {
   "cell_type": "code",
   "execution_count": 1,
   "metadata": {},
   "outputs": [
    {
     "name": "stdout",
     "output_type": "stream",
     "text": [
      "sqrt(dot(x,x))=  5.0\n",
      "sqrt(sum(x*x))=  5.0\n",
      "norm(x)=  5.0\n"
     ]
    }
   ],
   "source": [
    "import numpy as np\n",
    "x = np.array([3,4])\n",
    "print(\"sqrt(dot(x,x))= \", np.sqrt(np.dot(x,x)))\n",
    "print(\"sqrt(sum(x*x))= \", np.sqrt(np.sum(x*x)))\n",
    "print(\"norm(x)= \", np.linalg.norm(x)) ## linalg = linier algebra"
   ]
  },
  {
   "cell_type": "code",
   "execution_count": 2,
   "metadata": {},
   "outputs": [
    {
     "name": "stdout",
     "output_type": "stream",
     "text": [
      "[0.6 0.8]\n",
      "1.0\n"
     ]
    }
   ],
   "source": [
    "v=np.array([3,4])\n",
    "u=v/np.linalg.norm(v)\n",
    "print(u)\n",
    "print(np.linalg.norm(u))"
   ]
  },
  {
   "cell_type": "code",
   "execution_count": 3,
   "metadata": {},
   "outputs": [
    {
     "name": "stdout",
     "output_type": "stream",
     "text": [
      "[0.32349832 0.43133109 0.53916387 0.64699664]\n"
     ]
    }
   ],
   "source": [
    "x=([3,4,5,6])\n",
    "u=x/np.linalg.norm(x)\n",
    "print(u)"
   ]
  },
  {
   "cell_type": "code",
   "execution_count": 4,
   "metadata": {},
   "outputs": [
    {
     "name": "stdout",
     "output_type": "stream",
     "text": [
      "[34 20]\n"
     ]
    }
   ],
   "source": [
    "a=np.array([8,13])\n",
    "b=np.array([26,7])\n",
    "c=a+b\n",
    "print(c)"
   ]
  },
  {
   "cell_type": "code",
   "execution_count": 5,
   "metadata": {},
   "outputs": [
    {
     "name": "stdout",
     "output_type": "stream",
     "text": [
      "[ 7 13]\n"
     ]
    }
   ],
   "source": [
    "d=np.array([4,5])\n",
    "e=np.array([3,8])\n",
    "f=d+e\n",
    "print(f)"
   ]
  },
  {
   "cell_type": "code",
   "execution_count": 6,
   "metadata": {},
   "outputs": [
    {
     "name": "stdout",
     "output_type": "stream",
     "text": [
      "[ 8 -3]\n"
     ]
    }
   ],
   "source": [
    "a=np.array([12,2])\n",
    "b=np.array([4, 5])\n",
    "c=a-b\n",
    "print(c)"
   ]
  },
  {
   "cell_type": "code",
   "execution_count": 7,
   "metadata": {},
   "outputs": [
    {
     "name": "stdout",
     "output_type": "stream",
     "text": [
      "[-1  1]\n"
     ]
    }
   ],
   "source": [
    "d=np.array([1,2])\n",
    "e=np.array([2,1])\n",
    "f=d-e\n",
    "print(f)"
   ]
  },
  {
   "cell_type": "code",
   "execution_count": 8,
   "metadata": {},
   "outputs": [
    {
     "name": "stdout",
     "output_type": "stream",
     "text": [
      "0.6\n",
      "-0.6\n",
      "0.9272952180016123\n",
      "2.214297435588181\n"
     ]
    }
   ],
   "source": [
    "## 벡터 내적의 활용 ( 위치 )\n",
    "\n",
    "hero = np.array([0,1])\n",
    "enemyA = np.array([4,3])\n",
    "enemyB = np.array([4, -3])\n",
    "hero_norm = np.linalg.norm(hero)\n",
    "enemyA_norm=np.linalg.norm(enemyA)\n",
    "enemyB_norm=np.linalg.norm(enemyB)\n",
    "h_eA_cos = np.dot(hero, enemyA)/(hero_norm*enemyA_norm)\n",
    "h_eB_cos = np.dot(hero, enemyB)/(hero_norm*enemyB_norm)\n",
    "print(h_eA_cos)\n",
    "print(h_eB_cos)\n",
    "thetaA = np.arccos(h_eA_cos)\n",
    "thetaB = np.arccos(h_eB_cos)\n",
    "print(thetaA)\n",
    "print(thetaB)"
   ]
  },
  {
   "cell_type": "markdown",
   "metadata": {},
   "source": [
    "#### 외적"
   ]
  },
  {
   "cell_type": "code",
   "execution_count": 12,
   "metadata": {},
   "outputs": [
    {
     "name": "stdout",
     "output_type": "stream",
     "text": [
      "[3.2 2.4]\n"
     ]
    }
   ],
   "source": [
    "y = np.array([2,4])\n",
    "x = np.array([4,3])\n",
    "x_n=x/np.linalg.norm(x)\n",
    "proj_result=np.dot(y, x_n)*x_n\n",
    "print(proj_result)"
   ]
  },
  {
   "cell_type": "code",
   "execution_count": 13,
   "metadata": {},
   "outputs": [
    {
     "data": {
      "text/plain": [
       "SVC(C=1.0, break_ties=False, cache_size=200, class_weight=None, coef0=0.0,\n",
       "    decision_function_shape='ovr', degree=3, gamma='scale', kernel='rbf',\n",
       "    max_iter=-1, probability=False, random_state=None, shrinking=True,\n",
       "    tol=0.001, verbose=False)"
      ]
     },
     "execution_count": 13,
     "metadata": {},
     "output_type": "execute_result"
    }
   ],
   "source": [
    "from sklearn import svm\n",
    "x = [[0,0], [1,1]]\n",
    "y = [0,1]\n",
    "clf = svm.SVC()\n",
    "clf.fit(x,y)"
   ]
  },
  {
   "cell_type": "code",
   "execution_count": 15,
   "metadata": {},
   "outputs": [
    {
     "data": {
      "text/plain": [
       "array([0])"
      ]
     },
     "execution_count": 15,
     "metadata": {},
     "output_type": "execute_result"
    }
   ],
   "source": [
    "clf.predict([[-1.,-2.]])"
   ]
  },
  {
   "cell_type": "code",
   "execution_count": null,
   "metadata": {},
   "outputs": [],
   "source": []
  }
 ],
 "metadata": {
  "kernelspec": {
   "display_name": "Python 3",
   "language": "python",
   "name": "python3"
  },
  "language_info": {
   "codemirror_mode": {
    "name": "ipython",
    "version": 3
   },
   "file_extension": ".py",
   "mimetype": "text/x-python",
   "name": "python",
   "nbconvert_exporter": "python",
   "pygments_lexer": "ipython3",
   "version": "3.7.4"
  }
 },
 "nbformat": 4,
 "nbformat_minor": 2
}
