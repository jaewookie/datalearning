{
 "cells": [
  {
   "cell_type": "markdown",
   "metadata": {},
   "source": [
    "## 선형대수학과 벡터"
   ]
  },
  {
   "cell_type": "code",
   "execution_count": 1,
   "metadata": {},
   "outputs": [
    {
     "name": "stdout",
     "output_type": "stream",
     "text": [
      "sqrt(dot(x,x))=  5.0\n",
      "sqrt(sum(x*x))=  5.0\n",
      "norm(x)=  5.0\n"
     ]
    }
   ],
   "source": [
    "import numpy as np\n",
    "x = np.array([3,4])\n",
    "print(\"sqrt(dot(x,x))= \", np.sqrt(np.dot(x,x)))\n",
    "print(\"sqrt(sum(x*x))= \", np.sqrt(np.sum(x*x)))\n",
    "print(\"norm(x)= \", np.linalg.norm(x)) ## linalg = linier algebra"
   ]
  },
  {
   "cell_type": "code",
   "execution_count": 2,
   "metadata": {},
   "outputs": [
    {
     "name": "stdout",
     "output_type": "stream",
     "text": [
      "[0.6 0.8]\n",
      "1.0\n"
     ]
    }
   ],
   "source": [
    "v=np.array([3,4])\n",
    "u=v/np.linalg.norm(v)\n",
    "print(u)\n",
    "print(np.linalg.norm(u))"
   ]
  },
  {
   "cell_type": "code",
   "execution_count": 3,
   "metadata": {},
   "outputs": [
    {
     "name": "stdout",
     "output_type": "stream",
     "text": [
      "[0.32349832 0.43133109 0.53916387 0.64699664]\n"
     ]
    }
   ],
   "source": [
    "x=([3,4,5,6])\n",
    "u=x/np.linalg.norm(x)\n",
    "print(u)"
   ]
  },
  {
   "cell_type": "code",
   "execution_count": 4,
   "metadata": {},
   "outputs": [
    {
     "name": "stdout",
     "output_type": "stream",
     "text": [
      "[34 20]\n"
     ]
    }
   ],
   "source": [
    "a=np.array([8,13])\n",
    "b=np.array([26,7])\n",
    "c=a+b\n",
    "print(c)"
   ]
  },
  {
   "cell_type": "code",
   "execution_count": 5,
   "metadata": {},
   "outputs": [
    {
     "name": "stdout",
     "output_type": "stream",
     "text": [
      "[ 7 13]\n"
     ]
    }
   ],
   "source": [
    "d=np.array([4,5])\n",
    "e=np.array([3,8])\n",
    "f=d+e\n",
    "print(f)"
   ]
  },
  {
   "cell_type": "code",
   "execution_count": 6,
   "metadata": {},
   "outputs": [
    {
     "name": "stdout",
     "output_type": "stream",
     "text": [
      "[ 8 -3]\n"
     ]
    }
   ],
   "source": [
    "a=np.array([12,2])\n",
    "b=np.array([4, 5])\n",
    "c=a-b\n",
    "print(c)"
   ]
  },
  {
   "cell_type": "code",
   "execution_count": 7,
   "metadata": {},
   "outputs": [
    {
     "name": "stdout",
     "output_type": "stream",
     "text": [
      "[-1  1]\n"
     ]
    }
   ],
   "source": [
    "d=np.array([1,2])\n",
    "e=np.array([2,1])\n",
    "f=d-e\n",
    "print(f)"
   ]
  },
  {
   "cell_type": "code",
   "execution_count": 8,
   "metadata": {},
   "outputs": [
    {
     "name": "stdout",
     "output_type": "stream",
     "text": [
      "0.6\n",
      "-0.6\n",
      "0.9272952180016123\n",
      "2.214297435588181\n"
     ]
    }
   ],
   "source": [
    "## 벡터 내적의 활용 ( 위치 )\n",
    "\n",
    "hero = np.array([0,1])\n",
    "enemyA = np.array([4,3])\n",
    "enemyB = np.array([4, -3])\n",
    "hero_norm = np.linalg.norm(hero)\n",
    "enemyA_norm=np.linalg.norm(enemyA)\n",
    "enemyB_norm=np.linalg.norm(enemyB)\n",
    "h_eA_cos = np.dot(hero, enemyA)/(hero_norm*enemyA_norm)\n",
    "h_eB_cos = np.dot(hero, enemyB)/(hero_norm*enemyB_norm)\n",
    "print(h_eA_cos)\n",
    "print(h_eB_cos)\n",
    "thetaA = np.arccos(h_eA_cos)\n",
    "thetaB = np.arccos(h_eB_cos)\n",
    "print(thetaA)\n",
    "print(thetaB)"
   ]
  },
  {
   "cell_type": "markdown",
   "metadata": {},
   "source": [
    "#### 외적"
   ]
  },
  {
   "cell_type": "code",
   "execution_count": 9,
   "metadata": {},
   "outputs": [
    {
     "name": "stdout",
     "output_type": "stream",
     "text": [
      "[3.2 2.4]\n"
     ]
    }
   ],
   "source": [
    "y = np.array([2,4])\n",
    "x = np.array([4,3])\n",
    "x_n=x/np.linalg.norm(x)\n",
    "proj_result=np.dot(y, x_n)*x_n\n",
    "print(proj_result)"
   ]
  },
  {
   "cell_type": "code",
   "execution_count": 10,
   "metadata": {},
   "outputs": [
    {
     "data": {
      "text/plain": [
       "SVC(C=1.0, break_ties=False, cache_size=200, class_weight=None, coef0=0.0,\n",
       "    decision_function_shape='ovr', degree=3, gamma='scale', kernel='rbf',\n",
       "    max_iter=-1, probability=False, random_state=None, shrinking=True,\n",
       "    tol=0.001, verbose=False)"
      ]
     },
     "execution_count": 10,
     "metadata": {},
     "output_type": "execute_result"
    }
   ],
   "source": [
    "from sklearn import svm\n",
    "x = [[0,0], [1,1]]\n",
    "y = [0,1]\n",
    "clf = svm.SVC()\n",
    "clf.fit(x,y)"
   ]
  },
  {
   "cell_type": "code",
   "execution_count": 11,
   "metadata": {},
   "outputs": [
    {
     "data": {
      "text/plain": [
       "array([0])"
      ]
     },
     "execution_count": 11,
     "metadata": {},
     "output_type": "execute_result"
    }
   ],
   "source": [
    "clf.predict([[-1.,-2.]])"
   ]
  },
  {
   "cell_type": "code",
   "execution_count": 12,
   "metadata": {},
   "outputs": [
    {
     "name": "stdout",
     "output_type": "stream",
     "text": [
      "A= \n",
      " [[1 2]\n",
      " [3 4]]\n",
      "Inverse of A = \n",
      " [[-2.000 1.000]\n",
      " [1.500 -0.500]]\n",
      "A*A_inv = \n",
      " [[1.000 0.000]\n",
      " [0.000 1.000]]\n",
      "A_inv*A = \n",
      " [[1.000 0.000]\n",
      " [0.000 1.000]]\n"
     ]
    }
   ],
   "source": [
    "A = np.array([[1,2],[3,4]])\n",
    "A_inv = np.linalg.inv(A)\n",
    "np.set_printoptions(formatter={'float':'{:0.3f}'.format})\n",
    "print(\"A= \\n\", A)\n",
    "print(\"Inverse of A = \\n\", A_inv)\n",
    "print(\"A*A_inv = \\n\", np.dot(A,A_inv))\n",
    "print(\"A_inv*A = \\n\", np.dot(A_inv,A))"
   ]
  },
  {
   "cell_type": "code",
   "execution_count": 13,
   "metadata": {},
   "outputs": [
    {
     "name": "stdout",
     "output_type": "stream",
     "text": [
      "[14.639 -1.639 -0.000]\n",
      "[[0.255 0.789 0.408]\n",
      " [0.502 -0.493 -0.816]\n",
      " [0.826 -0.366 0.408]]\n",
      "[14.639 -1.639 0.000]\n",
      "[[0.611 0.880 -0.239]\n",
      " [0.577 0.233 -0.796]\n",
      " [0.542 -0.414 0.557]]\n",
      "[1.000 2.000 3.000]\n",
      "[[1.000 0.000 0.000]\n",
      " [0.000 1.000 0.000]\n",
      " [0.000 0.000 1.000]]\n",
      "[1.000 0.500 0.333]\n",
      "[[1.000 0.000 0.000]\n",
      " [0.000 1.000 0.000]\n",
      " [0.000 0.000 1.000]]\n"
     ]
    }
   ],
   "source": [
    "A=np.array([[1,2,3],[6,5,4],[9,8,7]])\n",
    "W, V=np.linalg.eig(A)\n",
    "print(W)\n",
    "print(V)\n",
    "W, V=np.linalg.eig(np.transpose(A))\n",
    "print(W)\n",
    "print(V)\n",
    "B=np.array([[1,0,0],[0,2,0],[0,0,3]])\n",
    "W, V = np.linalg.eig(B)\n",
    "print(W)\n",
    "print(V)\n",
    "W, V = np.linalg.eig(np.linalg.inv(B))\n",
    "print(W)\n",
    "print(V)"
   ]
  },
  {
   "cell_type": "markdown",
   "metadata": {},
   "source": [
    "### 공분산 과 상관계수(correlation)"
   ]
  },
  {
   "cell_type": "code",
   "execution_count": 16,
   "metadata": {},
   "outputs": [],
   "source": [
    "x_1=np.array([3,4,5,4,3,4,5])\n",
    "x_2=np.array([1,2,3,4,5,6,7])\n",
    "x_3=np.array([4,4,4,4,4,4,4])"
   ]
  },
  {
   "cell_type": "code",
   "execution_count": 17,
   "metadata": {},
   "outputs": [
    {
     "name": "stdout",
     "output_type": "stream",
     "text": [
      "covariance of x_1 and x_2 is :  0.5714285714285714\n",
      "correlation coefficient of x_1 and x_2 is :  0.37796447300922725\n"
     ]
    }
   ],
   "source": [
    "x1_diff=x_1 - x_1.mean()\n",
    "x2_diff=x_2 - x_2.mean()\n",
    "x12_cov = np.dot(x1_diff, x2_diff)/7\n",
    "print(\"covariance of x_1 and x_2 is : \", x12_cov)\n",
    "print(\"correlation coefficient of x_1 and x_2 is : \", x12_cov/(x_1.std()*x_2.std()))"
   ]
  },
  {
   "cell_type": "code",
   "execution_count": 18,
   "metadata": {},
   "outputs": [
    {
     "name": "stdout",
     "output_type": "stream",
     "text": [
      "covariance of x and y :  -2.0\n",
      "covariance matrix of x and y : \n",
      " [[2.000 -2.000]\n",
      " [-2.000 2.000]]\n",
      "correlation coefficient of x and y : \n",
      " [[1.000 -1.000]\n",
      " [-1.000 1.000]]\n"
     ]
    }
   ],
   "source": [
    "x=np.arange(5)\n",
    "y=np.arange(4, -1, -1)\n",
    "x_diff = x-x.mean()\n",
    "y_diff = y-y.mean()\n",
    "xy_cov = np.dot(x_diff, y_diff)/5 ## 공분산\n",
    "xy_cov_metrix = np.cov(x,y, ddof=0)\n",
    "xy_cor = np.corrcoef(x,y) ## 상관계수\n",
    "\n",
    "print(\"covariance of x and y : \", xy_cov)\n",
    "print(\"covariance matrix of x and y : \\n\", xy_cov_metrix)\n",
    "print(\"correlation coefficient of x and y : \\n\", xy_cor)"
   ]
  },
  {
   "cell_type": "markdown",
   "metadata": {},
   "source": [
    "#### 예제"
   ]
  },
  {
   "cell_type": "code",
   "execution_count": 19,
   "metadata": {},
   "outputs": [
    {
     "name": "stdout",
     "output_type": "stream",
     "text": [
      "15.0 9.0 4.0\n",
      "150.0 6.0 13.1\n",
      "[[35.000 5.000 0.000 20.000 15.000]\n",
      " [11.000 12.000 5.000 9.000 8.000]\n",
      " [0.500 0.000 10.000 4.500 5.000]]\n",
      "Covariance matrix : \n",
      " [[150.000 14.000 -23.500]\n",
      " [14.000 6.000 -8.800]\n",
      " [-23.500 -8.800 13.100]]\n",
      "Correlation Coefficients :\n",
      " [[1.000 0.467 -0.530]\n",
      " [0.467 1.000 -0.993]\n",
      " [-0.530 -0.993 1.000]]\n",
      "rho(x1, x2) : 0.47\n",
      "rho(x2, x3) : -0.99\n",
      "rho(x3, x1) : -0.53\n"
     ]
    }
   ],
   "source": [
    "x_1 = np.array([35, 5, 0, 20, 15])\n",
    "x_2 = np.array([11, 12, 5, 9, 8])\n",
    "x_3 = np.array([0.5, 0, 10, 4.5, 5])\n",
    "\n",
    "x_1_mean = x_1.mean()\n",
    "x_2_mean = x_2.mean()\n",
    "x_3_mean = x_3.mean()\n",
    "\n",
    "print(x_1_mean, x_2_mean, x_3_mean)\n",
    "\n",
    "x_1_var=x_1.var()\n",
    "x_2_var=x_2.var()\n",
    "x_3_var=x_3.var()\n",
    "\n",
    "print(x_1_var, x_2_var, x_3_var)\n",
    "\n",
    "x_total = np.array([x_1, x_2, x_3])\n",
    "print(x_total)\n",
    "print('Covariance matrix : \\n', np.cov(x_total, ddof=0))\n",
    "\n",
    "X_cc = np.corrcoef(x_total)\n",
    "print('Correlation Coefficients :\\n', X_cc)\n",
    "print(f'rho(x1, x2) : {X_cc[1][0]:3.2}')\n",
    "print(f'rho(x2, x3) : {X_cc[1][2]:3.2}')\n",
    "print(f'rho(x3, x1) : {X_cc[2][0]:3.2}')"
   ]
  },
  {
   "cell_type": "markdown",
   "metadata": {},
   "source": [
    "### 왜도 와 첨도"
   ]
  },
  {
   "cell_type": "code",
   "execution_count": 21,
   "metadata": {},
   "outputs": [
    {
     "name": "stdout",
     "output_type": "stream",
     "text": [
      "-0.7244179326244428\n",
      "0.7244179326244428\n",
      "-0.4795918367346941\n",
      "-1.3\n",
      "-1.2672516359309935\n"
     ]
    }
   ],
   "source": [
    "import scipy.stats as ss\n",
    "\n",
    "x1 = ss.skew([1,2,3,4,5,5,5,5])\n",
    "x2 = ss.skew([1,2,3,4,5,1,1,1])\n",
    "y1 = ss.kurtosis([1,2,2,2,3,3,3,3,3,4,4,4,5])\n",
    "y2 = ss.kurtosis([1,2,3,4,5])\n",
    "y3 = ss.kurtosis([1,2,3,4,4,4,4,4,3,2,1])\n",
    "print(x1)\n",
    "print(x2)\n",
    "print(y1)\n",
    "print(y2)\n",
    "print(y3)"
   ]
  },
  {
   "cell_type": "code",
   "execution_count": null,
   "metadata": {},
   "outputs": [],
   "source": []
  }
 ],
 "metadata": {
  "kernelspec": {
   "display_name": "Python 3",
   "language": "python",
   "name": "python3"
  },
  "language_info": {
   "codemirror_mode": {
    "name": "ipython",
    "version": 3
   },
   "file_extension": ".py",
   "mimetype": "text/x-python",
   "name": "python",
   "nbconvert_exporter": "python",
   "pygments_lexer": "ipython3",
   "version": "3.7.4"
  }
 },
 "nbformat": 4,
 "nbformat_minor": 2
}
